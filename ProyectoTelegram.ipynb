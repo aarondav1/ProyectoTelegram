{
  "nbformat": 4,
  "nbformat_minor": 0,
  "metadata": {
    "colab": {
      "name": "Untitled5.ipynb",
      "provenance": [],
      "authorship_tag": "ABX9TyOjZ/H3fdtuOssdqSuMEDdL",
      "include_colab_link": true
    },
    "kernelspec": {
      "name": "python3",
      "display_name": "Python 3"
    }
  },
  "cells": [
    {
      "cell_type": "markdown",
      "metadata": {
        "id": "view-in-github",
        "colab_type": "text"
      },
      "source": [
        "<a href=\"https://colab.research.google.com/github/aarondav85/ProyectoTelegram/blob/main/ProyectoTelegram.ipynb\" target=\"_parent\"><img src=\"https://colab.research.google.com/assets/colab-badge.svg\" alt=\"Open In Colab\"/></a>"
      ]
    },
    {
      "cell_type": "code",
      "metadata": {
        "id": "gJDvoVKf0UWq",
        "outputId": "36802825-e87c-4737-dd6f-04f82b57e68d",
        "colab": {
          "base_uri": "https://localhost:8080/"
        }
      },
      "source": [
        "# !apt-get update\n",
        "# !apt install chromium-chromedriver\n",
        "# !cp /usr/lib/chromium-browser/chromedriver /usr/bin\n",
        "# !pip install selenium\n",
        "from selenium import webdriver\n",
        "from bs4 import  BeautifulSoup\n",
        "\n",
        "\n",
        "options = webdriver.ChromeOptions()\n",
        "options.add_argument('--headless')\n",
        "options.add_argument('--no-sandbox')\n",
        "options.add_argument('--disable-dev-shm-usage')\n",
        "# open it, go to a website, and get results\n",
        "wd = webdriver.Chrome('chromedriver',options=options)\n",
        "wd.get(\"https://www.despegar.com.ec/vuelos/GYE/BCN?from=SB&di=1-0&reSearch=true\")\n",
        "soup = BeautifulSoup(wd.page_source,'html.parser')\n",
        "code = soup.find(\"div\", {\"class\":\"clusters\"})\n",
        "\n",
        "datos = code.find_all('div', class_='clusters')\n",
        "airline = code.find_all('img')\n",
        "\n",
        "for d in airline:\n",
        "  if d.get('alt') is not None:\n",
        "    print(\"Aerolinea: \", d.get('alt'))"
      ],
      "execution_count": 4,
      "outputs": [
        {
          "output_type": "stream",
          "text": [
            "Aerolinea:  Air Europa\n",
            "Aerolinea:  KLM\n",
            "Aerolinea:  Air France\n",
            "Aerolinea:  Copa Airlines\n",
            "Aerolinea:  KLM\n",
            "Aerolinea:  Air France\n",
            "Aerolinea:  Copa Airlines\n",
            "Aerolinea:  KLM\n",
            "Aerolinea:  Copa Airlines\n",
            "Aerolinea:  KLM\n",
            "Aerolinea:  Copa Airlines\n",
            "Aerolinea:  Air Europa\n",
            "Aerolinea:  American Airlines\n",
            "Aerolinea:  Iberia\n",
            "Aerolinea:  LATAM\n",
            "Aerolinea:  Iberia\n",
            "Aerolinea:  Iberia\n",
            "Aerolinea:  Iberia\n"
          ],
          "name": "stdout"
        }
      ]
    }
  ]
}